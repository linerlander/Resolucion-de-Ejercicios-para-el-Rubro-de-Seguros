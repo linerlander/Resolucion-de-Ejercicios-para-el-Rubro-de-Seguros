{
 "cells": [
  {
   "cell_type": "markdown",
   "metadata": {},
   "source": [
    "# <p style=\"background-color:#0C0F14;font-family:Creepster,cursive;color:#ffffff;font-size:150%;text-align:center;border-radius:10px 10px;\">🐍 Resolución de ejercicios para el rubro de Seguros🐍</p>\n",
    "---"
   ]
  },
  {
   "cell_type": "markdown",
   "metadata": {},
   "source": [
    "[![Clase-05.png](https://i.postimg.cc/zBppXMB2/Clase-05.png)](https://postimg.cc/mzz7mm77)"
   ]
  },
  {
   "cell_type": "markdown",
   "metadata": {},
   "source": [
    "<div class=\"alert alert-block alert-info\" style=\"margin-top: 20px\">\n",
    "\n",
    "<font size = 3>\n",
    "\n",
    "**`🐍 Indice de Ejercicios 🐍`**\n",
    "\n",
    "0. <a href=\"#sec_0\">Introducción</a>  \n",
    "1. <a href=\"#sec_1\">Verificación de Clientes con Pólizas Activas</a>  \n",
    "2. <a href=\"#sec_2\">Cálculo de Primas con Diferentes Planes</a>  \n",
    "3. <a href=\"#sec_3\">Clasificación de Clientes Según Edad</a>  \n",
    "4. <a href=\"#sec_4\">Filtrar Clientes con Primas Mayores a 2000</a>  \n",
    "5. <a href=\"#sec_5\">Verificación de Coberturas con match-case</a>  \n",
    "6. <a href=\"#sec_6\">Validar Edad y Aplicar Descuento en la Prima</a>  \n",
    "7. <a href=\"#sec_7\">Determinar si un Cliente Puede Acceder a un Seguro</a>  \n",
    "8. <a href=\"#sec_8\">Determinar el Tipo de Seguro Según el Vehículo</a>  \n",
    "9. <a href=\"#sec_9\">Generación de un Reporte de Clientes y sus Primas</a>  \n",
    "10. <a href=\"#sec_10\">Simulación de Incremento de Pólizas Cada Año</a>\n",
    "11. <a href=\"#sec_11\">Validación de Edad para un Seguro de Vida</a>  \n",
    "12. <a href=\"#sec_12\">Cálculo de Primas con Factor de Riesgo</a>  \n",
    "13. <a href=\"#sec_13\">Identificar Clientes con Seguro Vencido</a>  \n",
    "14. <a href=\"#sec_14\">Contar Clientes con Diferentes Tipos de Seguro</a>  \n",
    "15. <a href=\"#sec_15\">Verificar si un Cliente Tiene Más de una Póliza</a> \n",
    "16. <a href=\"#sec_16\">Calcular la Bonificación de un Cliente Según su Antigüedad</a>  \n",
    "17. <a href=\"#sec_17\">Determinar la Cobertura Según el Monto del Seguro</a>  \n",
    "18. <a href=\"#sec_18\">Sistema de Evaluación de Riesgo para Aprobación de Seguro</a>  \n",
    "19. <a href=\"#sec_19\">Algoritmo de Priorización de Reclamos</a> \n",
    "20. <a href=\"#sec_20\">Simulación de Ajuste de Póliza con Inflación Anual</a>    \n",
    "\n",
    "</font>\n",
    "</div>\n"
   ]
  },
  {
   "cell_type": "markdown",
   "metadata": {},
   "source": [
    "<a id='sec_0'></a>  \n",
    "## `0. Introducción`  \n",
    "\n",
    "- 🚀 **`Resolución de Ejercicios de Lógica en Python Aplicados a Seguros`** 🏥💰🚗  \n",
    "\n",
    "    - En el ámbito de los **seguros**, la correcta **evaluación de riesgos** ⚠️, la **gestión de pólizas** 📄 y la **clasificación de clientes** 🧑‍💼 son esenciales para ofrecer **coberturas adecuadas** 🏠🚑 y optimizar la administración de **reclamos** 💵.  \n",
    "\n",
    "    - Este proyecto que desarolle se enfoca en una serie de **ejercicios prácticos** diseñados para abordar **situaciones clave** en el sector asegurador, considerando factores como la **edad del cliente** 👶👴, el **tipo de seguro contratado** 📄, la **prima anual** 💵, el **historial de reclamos** 📊, y otros criterios relevantes en la evaluación de riesgos y costos ⚖️.  \n",
    "\n",
    "- 📌 **`Finalidad de la Resolución de los Ejercicios`**  \n",
    "\n",
    "   - ✅ **Fortalecí la lógica de programación** con estructuras de control como `while`, `for`, `if-else`, `match-case`, y más. \n",
    "\n",
    "   - ✅ **Modelé escenarios reales del sector seguros** aplicando `diccionarios` 📂, `listas` 📋, `sets` 🏷 y `tuplas` 📑. \n",
    "\n",
    "   - ✅ **Optimizé cálculos y procesos** mediante `list comprehensions` 🔢 y funciones como `map()`, `filter()`.  \n",
    "\n",
    "   - ✅ **Simulé el cálculo de primas** 💵, la elegibilidad para seguros 🚦 y la gestión de reclamos ⚠️ con Python.  \n",
    "\n",
    "   - ✅ **Apliqué estructuras de decisión** para definir coberturas, beneficios y restricciones de pólizas 🏠🚗🏥.  \n",
    "\n",
    "    💡 **¡Estoy Prepárado para desarrollar habilidades clave en lógica aplicada al Sector de Seguros con Python!** 🚀  \n",
    "\n",
    "---"
   ]
  },
  {
   "cell_type": "markdown",
   "metadata": {},
   "source": [
    "<a id='sec_1'></a>  \n",
    "## `1. Verificación de Clientes con Pólizas Activas`  \n",
    "\n",
    "- 📌 Un asegurado quiere verificar si su póliza está activa.\n",
    "\n",
    "- 📌 Debe ingresar su nombre y \n",
    "\n",
    "- 📌 El sistema le indicará si está en la base de datos de clientes activos. \n",
    "\n",
    "- 📌 Si no está registrado, se le notificará. \n",
    "\n",
    "- 📌 El programa debe ejecutarse en bucle hasta que el usuario escriba \"salir\"."
   ]
  },
  {
   "cell_type": "code",
   "execution_count": null,
   "metadata": {},
   "outputs": [],
   "source": []
  },
  {
   "cell_type": "markdown",
   "metadata": {},
   "source": [
    "<a id='sec_2'></a>  \n",
    "## `2. Cálculo de Primas con Diferentes Planes`  \n",
    "\n",
    "- 📌 El usuario selecciona un plan de seguro (básico, estándar, premium)\n",
    "\n",
    "- 📌 El sistema le indica el costo correspondiente.\n",
    "\n",
    "- 📌 Si elige un plan inválido, se le informa."
   ]
  },
  {
   "cell_type": "code",
   "execution_count": null,
   "metadata": {},
   "outputs": [],
   "source": []
  },
  {
   "cell_type": "markdown",
   "metadata": {},
   "source": [
    "<a id='sec_3'></a>  \n",
    "## `3. Clasificación de Clientes Según Edad`  \n",
    "\n",
    "- 📌 El sistema clasificará a los clientes en categorías según su edad. \n",
    "\n",
    "- 📌 El usuario debe ingresar su nombre y edad. \n",
    "\n",
    "- 📌 Se le asignará una categoría (Joven, Adulto, Mayor)."
   ]
  },
  {
   "cell_type": "code",
   "execution_count": null,
   "metadata": {},
   "outputs": [],
   "source": []
  },
  {
   "cell_type": "markdown",
   "metadata": {},
   "source": [
    "<a id='sec_4'></a>  \n",
    "## `4. Filtrar Clientes con Primas Mayores a 2000`  \n",
    "\n",
    "- 📌 Dado un diccionario con clientes y sus primas. \n",
    "\n",
    "- 📌 El sistema identificará quiénes tienen primas superiores a $2000."
   ]
  },
  {
   "cell_type": "code",
   "execution_count": null,
   "metadata": {},
   "outputs": [],
   "source": []
  },
  {
   "cell_type": "markdown",
   "metadata": {},
   "source": [
    "<a id='sec_5'></a>  \n",
    "## `5. Verificación de Coberturas con match-case`  \n",
    "\n",
    "- 📌 El usuario ingresa su plan de seguro.\n",
    "\n",
    "- 📌 el sistema le mostrará qué coberturas tiene incluidas (básico, estándar, premium)"
   ]
  },
  {
   "cell_type": "code",
   "execution_count": null,
   "metadata": {},
   "outputs": [],
   "source": []
  },
  {
   "cell_type": "markdown",
   "metadata": {},
   "source": [
    "<a id='sec_6'></a>  \n",
    "## `6. Validar Edad y Aplicar Descuento en la Prima`  \n",
    "\n",
    "- 📌 Si un cliente tiene más de 60 años, se le aplica un 10% de descuento en su prima base de $2000."
   ]
  },
  {
   "cell_type": "code",
   "execution_count": null,
   "metadata": {},
   "outputs": [],
   "source": []
  },
  {
   "cell_type": "markdown",
   "metadata": {},
   "source": [
    "<a id='sec_7'></a>  \n",
    "## `7. Determinar si un Cliente Puede Acceder a un Seguro`  \n",
    "\n",
    "- 📌 Se verifica si un cliente cumple con todos los requisitos (mayor de edad, trabajo estable, sin enfermedades preexistentes)."
   ]
  },
  {
   "cell_type": "code",
   "execution_count": null,
   "metadata": {},
   "outputs": [],
   "source": []
  },
  {
   "cell_type": "markdown",
   "metadata": {},
   "source": [
    "<a id='sec_8'></a>  \n",
    "## `8. Determinar el Tipo de Seguro Según el Vehículo`  \n",
    "\n",
    "- 📌 El usuario ingresa su tipo de vehículo y el sistema le recomienda el seguro adecuado."
   ]
  },
  {
   "cell_type": "code",
   "execution_count": null,
   "metadata": {},
   "outputs": [],
   "source": []
  },
  {
   "cell_type": "markdown",
   "metadata": {},
   "source": [
    "<a id='sec_9'></a>  \n",
    "## `9. Generación de un Reporte de Clientes y sus Primas`  \n",
    "\n",
    "- 📌 Se tiene una lista de clientes y sus primas. \n",
    "\n",
    "- 📌 Se generará un reporte estructurado."
   ]
  },
  {
   "cell_type": "code",
   "execution_count": null,
   "metadata": {},
   "outputs": [],
   "source": []
  },
  {
   "cell_type": "markdown",
   "metadata": {},
   "source": [
    "<a id='sec_10'></a>  \n",
    "## `10. Simulación de Incremento de Pólizas Cada Año`  \n",
    "\n",
    "- 📌 Se calculará el incremento anual de una póliza con un aumento del 8% hasta alcanzar un límite de $2000."
   ]
  },
  {
   "cell_type": "code",
   "execution_count": null,
   "metadata": {},
   "outputs": [],
   "source": []
  },
  {
   "cell_type": "markdown",
   "metadata": {},
   "source": [
    "<a id='sec_11'></a>  \n",
    "## `11. Validación de Edad para un Seguro de Vida`  \n",
    "\n",
    "- 📌 Objetivo: Determinar si un cliente es elegible para contratar un seguro de vida.\n",
    "\n",
    "- 📌 Entrada: Edad del cliente.\n",
    "\n",
    "- 📌 Salida: Mensaje indicando si el cliente es elegible o no.\n",
    "\n",
    "- 📌 Conceptos usados: if-else, input()."
   ]
  },
  {
   "cell_type": "code",
   "execution_count": null,
   "metadata": {},
   "outputs": [],
   "source": []
  },
  {
   "cell_type": "markdown",
   "metadata": {},
   "source": [
    "<a id='sec_12'></a>  \n",
    "## `12. Cálculo de Primas con Factor de Riesgo`  \n",
    "\n",
    "- 📌 Objetivo: Ajustar el costo de la prima según el riesgo del cliente.\n",
    "\n",
    "- 📌 Entrada: Prima base y nivel de riesgo (bajo, medio, alto).\n",
    "\n",
    "- 📌 Salida: Prima ajustada.\n",
    "\n",
    "- 📌 Conceptos usados: if-elif-else, diccionarios, input()."
   ]
  },
  {
   "cell_type": "code",
   "execution_count": null,
   "metadata": {},
   "outputs": [],
   "source": []
  },
  {
   "cell_type": "markdown",
   "metadata": {},
   "source": [
    "<a id='sec_13'></a>  \n",
    "## `13. Identificar Clientes con Seguro Vencido`  \n",
    "\n",
    "- 📌 Objetivo: Verificar si la póliza de un cliente está vencida.\n",
    "\n",
    "- 📌 Entrada: Fecha de vencimiento de la póliza\n",
    "\n",
    "- 📌 Salida: Mensaje indicando si está vencida o no.\n",
    "\n",
    "- 📌 CConceptos usados: datetime, if-else."
   ]
  },
  {
   "cell_type": "code",
   "execution_count": null,
   "metadata": {},
   "outputs": [],
   "source": []
  },
  {
   "cell_type": "markdown",
   "metadata": {},
   "source": [
    "<a id='sec_14'></a>  \n",
    "## `14. Contar Clientes con Diferentes Tipos de Seguro`  \n",
    "\n",
    "- 📌 Objetivo: Contar cuántos clientes tienen cada tipo de seguro (auto, vida, salud).\n",
    "\n",
    "- 📌 Entrada: Lista de clientes con su tipo de seguro.\n",
    "\n",
    "- 📌 Salida: Cantidad de clientes por tipo de seguro.\n",
    "\n",
    "- 📌 Conceptos usados: diccionarios, for, setdefault()."
   ]
  },
  {
   "cell_type": "code",
   "execution_count": null,
   "metadata": {},
   "outputs": [],
   "source": []
  },
  {
   "cell_type": "markdown",
   "metadata": {},
   "source": [
    "<a id='sec_15'></a>  \n",
    "## `15. Verificar si un Cliente Tiene Más de una Póliza`  \n",
    "\n",
    "- 📌 Objetivo: Determinar si un cliente tiene más de una póliza contratada.\n",
    "\n",
    "- 📌 Entrada: Diccionario con clientes y su lista de pólizas.\n",
    "\n",
    "- 📌 Salida: Mensaje indicando si el cliente tiene múltiples pólizas.\n",
    "\n",
    "- 📌 Conceptos usados: diccionarios, if-else."
   ]
  },
  {
   "cell_type": "code",
   "execution_count": null,
   "metadata": {},
   "outputs": [],
   "source": []
  },
  {
   "cell_type": "markdown",
   "metadata": {},
   "source": [
    "<a id='sec_16'></a>  \n",
    "## `16. Calcular la Bonificación de un Cliente Según su Antigüedad`  \n",
    "\n",
    "- 📌 Objetivo: Calcular un descuento en la prima basado en la antigüedad del cliente.\n",
    "\n",
    "- 📌 Entrada: Años como cliente.\n",
    "\n",
    "- 📌 Salida: Descuento aplicado en la prima.\n",
    "\n",
    "- 📌 Conceptos usados: if-elif-else, aritmética."
   ]
  },
  {
   "cell_type": "code",
   "execution_count": null,
   "metadata": {},
   "outputs": [],
   "source": []
  },
  {
   "cell_type": "markdown",
   "metadata": {},
   "source": [
    "<a id='sec_17'></a>  \n",
    "## `17. Determinar la Cobertura Según el Monto del Seguro`  \n",
    "\n",
    "- 📌 Objetivo: Definir el nivel de cobertura basado en el monto asegurado.\n",
    "\n",
    "- 📌 Entrada: Monto de seguro.\n",
    "\n",
    "- 📌 Salida: Nivel de cobertura.\n",
    "\n",
    "- 📌 Conceptos usados: if-elif-else."
   ]
  },
  {
   "cell_type": "code",
   "execution_count": null,
   "metadata": {},
   "outputs": [],
   "source": []
  },
  {
   "cell_type": "markdown",
   "metadata": {},
   "source": [
    "<a id='sec_18'></a>  \n",
    "## `18. Sistema de Evaluación de Riesgo para Aprobación de Seguro`  \n",
    "\n",
    "- 📌 Objetivo: Determinar si un cliente es elegible para un seguro en base a su edad, historial médico y número de siniestros.\n",
    "\n",
    "- 📌 Entrada: Edad, si tiene enfermedades preexistentes, número de siniestros.\n",
    "\n",
    "- 📌 Salida: Aprobado, Aprobado con recargo o Rechazado.\n",
    "\n",
    "- 📌 Conceptos usados: if-elif-else, diccionarios, funciones.\n",
    "\n",
    "- **`📌 Criterios de Evaluación:`**\n",
    "\n",
    "    - 📌 Si el cliente tiene menos de 18 años o más de 75 años, es Rechazado.\n",
    "\n",
    "    - 📌Si tiene enfermedades preexistentes, el costo aumenta en 25%.\n",
    "\n",
    "    - 📌Si tiene más de 2 siniestros previos, se rechaza automáticamente.\n",
    "\n",
    "    - 📌Si tiene entre 1 y 2 siniestros, la prima sube en 15%."
   ]
  },
  {
   "cell_type": "code",
   "execution_count": null,
   "metadata": {},
   "outputs": [],
   "source": []
  },
  {
   "cell_type": "markdown",
   "metadata": {},
   "source": [
    "<a id='sec_19'></a>  \n",
    "## `19. Algoritmo de Priorización de Reclamos`  \n",
    "\n",
    "- 📌 Objetivo: Procesar una lista de reclamos y ordenarlos según prioridad, donde:\n",
    "\n",
    "    - Urgente 🟥 → Daño total / Emergencia médica.\n",
    "\n",
    "    - Alta 🟧 → Accidente grave / Hospitalización.\n",
    "\n",
    "    - Media 🟨 → Daños menores.\n",
    "\n",
    "    - Baja 🟩 → Consultas generales.\n",
    "\n",
    "- 📌 Entrada: Lista de reclamos con su tipo y monto.\n",
    "\n",
    "- 📌 Salida: Reclamos ordenados por prioridad.\n",
    "\n",
    "- 📌 Conceptos usados: diccionarios, listas, sorted(), lambda, match-case."
   ]
  },
  {
   "cell_type": "code",
   "execution_count": null,
   "metadata": {},
   "outputs": [],
   "source": []
  },
  {
   "cell_type": "markdown",
   "metadata": {},
   "source": [
    "<a id='sec_20'></a>  \n",
    "## `20. Simulación de Ajuste de Póliza con Inflación Anual`  \n",
    "\n",
    "- 📌 Objetivo: Simular el ajuste de precio de una póliza durante 5 años, aplicando un aumento del 6% anual debido a inflación.\n",
    "\n",
    "    - Urgente 🟥 → Daño total / Emergencia médica.\n",
    "\n",
    "    - Alta 🟧 → Accidente grave / Hospitalización.\n",
    "\n",
    "    - Media 🟨 → Daños menores.\n",
    "\n",
    "    - Baja 🟩 → Consultas generales.\n",
    "\n",
    "- 📌 Entrada: Prima inicial.\n",
    "\n",
    "- 📌 Salida: Historial de la prima durante 5 años.\n",
    "\n",
    "- 📌 Conceptos usados: while, diccionarios, listas, round()."
   ]
  },
  {
   "cell_type": "code",
   "execution_count": null,
   "metadata": {},
   "outputs": [],
   "source": []
  }
 ],
 "metadata": {
  "kernelspec": {
   "display_name": "Python 3",
   "language": "python",
   "name": "python3"
  },
  "language_info": {
   "codemirror_mode": {
    "name": "ipython",
    "version": 3
   },
   "file_extension": ".py",
   "mimetype": "text/x-python",
   "name": "python",
   "nbconvert_exporter": "python",
   "pygments_lexer": "ipython3",
   "version": "3.11.9"
  }
 },
 "nbformat": 4,
 "nbformat_minor": 2
}
